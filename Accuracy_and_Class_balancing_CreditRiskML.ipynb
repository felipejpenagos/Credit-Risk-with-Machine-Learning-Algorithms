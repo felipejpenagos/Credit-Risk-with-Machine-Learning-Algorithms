{
 "cells": [
  {
   "cell_type": "markdown",
   "id": "7cdca34f",
   "metadata": {},
   "source": [
    "#### Loan Default Prediction with Machine Learning\n",
    "\n",
    "Improving Accuracy and Class Balancing\n",
    "\n",
    "Final Part of the Case Study.\n",
    "We built two separate models: a Logisitc Regression and a Random Forest"
   ]
  },
  {
   "cell_type": "markdown",
   "id": "ace86c68",
   "metadata": {},
   "source": [
    "'Abstract'\n",
    "This notebook focuses on improving loan default prediction performance by addressing \n",
    "class imbalance, where default cases represent only ~21% of the data. Various techniques \n",
    "are explored, including class weighting (balanced, manual), resampling (upsampling and \n",
    "downsampling), and SMOTE to equalize class representation. Each method is evaluated using \n",
    "a custom eval_model() function measuring accuracy, precision, recall, and AUC. \n",
    "\n",
    "Among all methods tested, downsampling the majority class yielded the most balanced \n",
    "and effective model results.\n"
   ]
  },
  {
   "cell_type": "code",
   "execution_count": 13,
   "id": "1417b592",
   "metadata": {},
   "outputs": [],
   "source": [
    "#!/usr/bin/env python3\n",
    "# -*- coding: utf-8 -*-\n",
    "\"\"\"\n",
    "Created on Wed May  1 18:42:29 2024\n",
    "\n",
    "@author: Felipe J.\n",
    "\n",
    "Loan Default Prediction with ML pt. 7, \n",
    "\n",
    "Improving Accuracy and Class Balancing.\n",
    "\"\"\"\n",
    "# All previous excercises point to an underlying attribute: we have an inbalanced data set.\n",
    "# Our model is having a hard time separating classes since there's very few loan defualts compared to non-defualts.\n",
    "\n",
    "# We can check loan_df['LOAN_DEFAULT].value_counts() to validate, only 21% of our data is loan-default.\n",
    "\n",
    "import numpy as np\n",
    "import pandas as pd\n",
    "import seaborn as sns\n",
    "import matplotlib.pyplot as plt\n",
    "from sklearn.model_selection import train_test_split\n",
    "from sklearn.ensemble import RandomForestClassifier\n",
    "from sklearn.metrics import accuracy_score, precision_score, recall_score, f1_score, plot_confusion_matrix, confusion_matrix, roc_curve, auc \n",
    "\n",
    "from imblearn.over_sampling import SMOTE\n",
    "from sklearn.utils import resample\n",
    "\n",
    "loan_df = pd.read_csv('/Users/pjaram84/Desktop/Independent Pursuits/Machine Learning with CFI/Loan Default Prediction ML/data/vehicle_loans_feat.csv', index_col='UNIQUEID')\n"
   ]
  },
  {
   "cell_type": "markdown",
   "id": "d48a431b",
   "metadata": {},
   "source": [
    "#### Bring Reusable Fucntions (Code) from Feature Eng. and Model Evaluation "
   ]
  },
  {
   "cell_type": "code",
   "execution_count": 14,
   "id": "d189724a",
   "metadata": {},
   "outputs": [],
   "source": [
    "#%% Bring Reusable Fucntions from other Chapters (Model Evaluation & Encode and Split).\n",
    "def eval_model(model_name, x_test, y_test):  # Takes inputs model_name, x_test data, and y_test data.\n",
    "    predictions = model_name.predict(x_test) # Predicted Values\n",
    "    probs = model_name.predict_proba(x_test) # Predicted Probabilities \n",
    "    \n",
    "    # Metrics (Scores)\n",
    "    accuracy = model_name.score(x_test, y_test)\n",
    "    precision = precision_score(y_test, predictions)\n",
    "    recall = recall_score(y_test, predictions)\n",
    "    f1 = f1_score(y_test, predictions) \n",
    "    print(\"Accuracy:\", accuracy)\n",
    "    print(\"Precision:\", precision)\n",
    "    print(\"Recall:\", recall)\n",
    "    print(\"f1 score:\", f1)\n",
    "    \n",
    "    # Confusion Matrix\n",
    "    conf_mat = confusion_matrix(y_test, predictions)\n",
    "    plot_confusion_matrix(model_name, x_test, y_test)\n",
    "    \n",
    "    tn = conf_mat[0][0]  # True Negatives \n",
    "    fp = conf_mat[0][1]  # False Positives\n",
    "    fn = conf_mat[1][0]  # False Negatives \n",
    "    tp = conf_mat[1][1]  # True Positives\n",
    "    print (\"True Negatives (Correct Non-Defaults):\", tn)    # print True Negatives\n",
    "    print (\"False Positives (Incorrect Defaults):\", fp)     # print False Positives\n",
    "    print (\"False Negatives (Incorrect Non-Defaults):\", fn) # print False Negatives\n",
    "    print (\"True Positives (Correct Defaults):\", tp) \n",
    "    \n",
    "    # The ROC curve\n",
    "    probs_df = pd.DataFrame()            # Probability 'probs' (0 or 1) dataframe.\n",
    "    probs_df['Prob. (0)'] = probs[:, 0]     \n",
    "    probs_df['Prob. (1)'] = probs[:, 1] \n",
    "    print(probs_df.describe())           # Descirptive Stats for out Probability for (0 or 1)\n",
    "    \n",
    "    fpr, tpr, threshold = roc_curve(y_test, probs[:, 1], pos_label=1) # Generate ROC curve\n",
    "    roc_auc = auc(fpr, tpr)              # auc() function (area under curve).\n",
    "    print(\"Arean under ROC curve (AUC):\", roc_auc)\n",
    "    \n",
    "    plt.figure(2)                        # Plotting ROC Graph\n",
    "    plt.title('Receiver Operating Characteristic (ROC) Curve')\n",
    "    plt.plot(fpr, tpr, color='darkorange', label='ROC curve (AUC = %0.2f)' % roc_auc) # Formatted to Plot our roc_auc value.\n",
    "    plt.plot([0, 1], [0, 1], color='navy', linestyle='--', label='TPR=FPR line')      # Line where TPR=FPR.\n",
    "    plt.xlim([0, 1])                     # \"fpr\"  goes in x-axis. \"tpr\" goes in y-axis.\n",
    "    plt.ylim([0, 1])                     # starts at (0, 0) and ends in (1, 1).\n",
    "    plt.xlabel('False Positive Rate')\n",
    "    plt.ylabel('True Positive Rate')\n",
    "    plt.legend(loc=\"lower right\") \n",
    "    plt.show()\n",
    "    \n",
    "    # Prediction Percentages\n",
    "    results_df = pd.DataFrame()                         # Results Dataframe\n",
    "    results_df['true_class'] = y_test                   # Compares: y_test, predictions, probability for each row. \n",
    "    results_df['predicted_class'] = list(predictions)   # Converting our model predictions from array to list.\n",
    "    results_df['default_prob'] = probs[:, 1]   \n",
    "    pred_percentages = results_df.groupby('true_class')['predicted_class'].value_counts(normalize=True)\n",
    "    print(\"Prediction Percentages (%):\", pred_percentages)                        \n",
    "\n",
    "def encode_and_split(loan_df):\n",
    "    loan_data_enc = pd.get_dummies(loan_df, prefix_sep='_ _ _', drop_first=True)\n",
    "    \n",
    "    X = loan_data_enc.drop(columns=['LOAN_DEFAULT'])\n",
    "    y = loan_data_enc['LOAN_DEFAULT']\n",
    "    \n",
    "    x_train, x_test, y_train, y_test = train_test_split(X, y, train_size=0.8, random_state=84)\n",
    "    return x_train, x_test, y_train, y_test"
   ]
  },
  {
   "cell_type": "code",
   "execution_count": 15,
   "id": "19b3d43e",
   "metadata": {},
   "outputs": [
    {
     "data": {
      "text/plain": [
       "RandomForestClassifier(max_depth=15)"
      ]
     },
     "execution_count": 15,
     "metadata": {},
     "output_type": "execute_result"
    }
   ],
   "source": [
    "#%% Quickly Build and Eval the previous Model\n",
    "x_train, x_test, y_train, y_test = encode_and_split(loan_df) # Used our function for Encode and Train/Test/Split\n",
    "\n",
    "rforest_classifier = RandomForestClassifier(n_estimators=100, max_depth=(15)) # Initialized Classifier w/ specified Hyperparameters.\n",
    "rforest_classifier.fit(x_train, y_train) # Fit model to our Training Data.\n",
    "    # eval_model(rforest_classifier, x_test, y_test) # Our best model is having a hard time with class separation. Let's approach this."
   ]
  },
  {
   "cell_type": "markdown",
   "id": "d272186c",
   "metadata": {},
   "source": [
    "#### Class Balancing Techniques"
   ]
  },
  {
   "cell_type": "code",
   "execution_count": 16,
   "id": "8f89046f",
   "metadata": {},
   "outputs": [
    {
     "name": "stdout",
     "output_type": "stream",
     "text": [
      "Accuracy: 0.6375372606206172\n",
      "Precision: 0.2996826889176166\n",
      "Recall: 0.5057516858389528\n",
      "f1 score: 0.37635598848793445\n"
     ]
    },
    {
     "name": "stderr",
     "output_type": "stream",
     "text": [
      "/Users/pjaram84/opt/anaconda3/lib/python3.9/site-packages/sklearn/utils/deprecation.py:87: FutureWarning: Function plot_confusion_matrix is deprecated; Function `plot_confusion_matrix` is deprecated in 1.0 and will be removed in 1.2. Use one of the class methods: ConfusionMatrixDisplay.from_predictions or ConfusionMatrixDisplay.from_estimator.\n",
      "  warnings.warn(msg, category=FutureWarning)\n"
     ]
    },
    {
     "name": "stdout",
     "output_type": "stream",
     "text": [
      "True Negatives (Correct Non-Defaults): 24629\n",
      "False Positives (Incorrect Defaults): 11918\n",
      "False Negatives (Incorrect Non-Defaults): 4984\n",
      "True Positives (Correct Defaults): 5100\n",
      "          Prob. (0)     Prob. (1)\n",
      "count  46631.000000  46631.000000\n",
      "mean       0.565415      0.434585\n",
      "std        0.131513      0.131513\n",
      "min        0.137882      0.014869\n",
      "25%        0.458086      0.337677\n",
      "50%        0.554232      0.445768\n",
      "75%        0.662323      0.541914\n",
      "max        0.985131      0.862118\n",
      "Arean under ROC curve (AUC): 0.6356291679402961\n"
     ]
    },
    {
     "data": {
      "image/png": "[encoded data removed]",
      "text/plain": [
       "<Figure size 432x288 with 2 Axes>"
      ]
     },
     "metadata": {
      "needs_background": "light"
     },
     "output_type": "display_data"
    },
    {
     "data": {
      "image/png": "[encoded data removed]",
      "text/plain": [
       "<Figure size 432x288 with 1 Axes>"
      ]
     },
     "metadata": {
      "needs_background": "light"
     },
     "output_type": "display_data"
    },
    {
     "name": "stdout",
     "output_type": "stream",
     "text": [
      "Prediction Percentages (%): true_class  predicted_class\n",
      "0           0                  0.673899\n",
      "            1                  0.326101\n",
      "1           1                  0.505752\n",
      "            0                  0.494248\n",
      "Name: predicted_class, dtype: float64\n"
     ]
    }
   ],
   "source": [
    "#%% Using Weight Balancing Techniques – Class Balancing             \n",
    "\n",
    "# Balanced Parameter – By changing the weight, we change the 'influence' that each class has during training phase of model.\n",
    "rforest_classifier_balanced = RandomForestClassifier(n_estimators=100, max_depth=15, class_weight='balanced') # NOTE: class_weight='balanced' (parameter).\n",
    "rforest_classifier_balanced.fit(x_train, y_train)\n",
    "\n",
    "eval_model(rforest_classifier_balanced, x_test, y_test)  # So this model has increased the amount of true defualts predicted. \n",
    "                                                         # However, this does come as a cost in Accuracy and Precision.\n",
    "    # If we look at Predicted Percentages (%)\n",
    "    # * 66% of no-defaults are correctly predicted                                                  # That is why accuracy and preciosion decreased. \n",
    "    # * 32% of no-defaults predictions are wrongfully predicted (were acutally defualts).           # Because eventhough we're catching more defaults, we're \n",
    "    # * 50% of default predictions were correctly predicted. (50% chance of getting it right).      # also flagging many non-defaults as defaults.\n",
    "    # * 49% of default predictions were wrongfully predicted (were not actually defualt).           # Improvement can be seen in the increased Recall score."
   ]
  },
  {
   "cell_type": "markdown",
   "id": "d662ff00",
   "metadata": {},
   "source": [
    "Class Balancing – Manual Weighting"
   ]
  },
  {
   "cell_type": "code",
   "execution_count": 17,
   "id": "b8418aaa",
   "metadata": {},
   "outputs": [
    {
     "data": {
      "text/plain": [
       "'eval_model(rforest_classifier_balanced_manual, x_test, y_test)'"
      ]
     },
     "execution_count": 17,
     "metadata": {},
     "output_type": "execute_result"
    }
   ],
   "source": [
    "# Manual Parameters – Manual Class Weighting\n",
    "weights = {0:0.27, 1:0.73}                  \n",
    "rforest_classifier_manualweight = RandomForestClassifier(n_estimators=100, max_depth=15, class_weight=weights) # NOTE: class_weight='balanced' (parameter).\n",
    "rforest_classifier_manualweight.fit(x_train, y_train)  # Weights should always add up to one\n",
    "rforest_classifier_manualweight.fit(x_train, y_train)  \n",
    "'eval_model(rforest_classifier_balanced_manual, x_test, y_test)' # Building ML models involves trade offs.\n"
   ]
  },
  {
   "cell_type": "markdown",
   "id": "529f8185",
   "metadata": {},
   "source": [
    "Class Balancing – Resampling"
   ]
  },
  {
   "cell_type": "code",
   "execution_count": 18,
   "id": "94e4b139",
   "metadata": {},
   "outputs": [
    {
     "name": "stdout",
     "output_type": "stream",
     "text": [
      "1    145996\n",
      "Name: LOAN_DEFAULT, dtype: int64\n",
      "0    145996\n",
      "Name: LOAN_DEFAULT, dtype: int64\n"
     ]
    }
   ],
   "source": [
    "#%% Resampling                * Resampling should only ever be done in training data. Not test data.\n",
    "# Upsampling – Process of resampling minority class to match instances of majority class.\n",
    "# That is, equal number of default and non-defualt loans.\n",
    "\n",
    "train_df = x_train.copy()     # copy x_train\n",
    "train_df['LOAN_DEFAULT'] = y_train\n",
    "train_df.value_counts(normalize=True) # Check Target Variable Distribution. 78% NonDefault. 21% Defualt.\n",
    "\n",
    "# Split target variable classes\n",
    "train_minority = train_df[train_df['LOAN_DEFAULT'] == 1]\n",
    "train_majority = train_df[train_df['LOAN_DEFAULT'] == 0]\n",
    "\n",
    "# Perform upsampling\n",
    "train_minority_up = resample(train_minority, replace=True, n_samples=train_majority.shape[0], random_state=48)\n",
    "    # Using 'resample()' function.\n",
    "print(train_minority_up['LOAN_DEFAULT'].value_counts()) # As you can see, no there's equal instances for both.\n",
    "print(train_majority['LOAN_DEFAULT'].value_counts())\n",
    "# Awesome, now train_minority_up = train_majority. Only one is for Defualts and the other for NonDefaults.\n",
    "\n",
    "# Concatenate for Full Training Set\n",
    "train_upsampled_df = pd.concat([train_majority, train_minority_up])\n",
    "\n",
    "# Split features from Labels\n",
    "x_train_up = train_upsampled_df.drop(columns=['LOAN_DEFAULT'])\n",
    "y_train_up = train_upsampled_df['LOAN_DEFAULT']\n",
    "\n",
    "# Train and Eval\n",
    "rforest_classifier_upsampled = RandomForestClassifier()\n",
    "rforest_classifier_upsampled.fit(x_train_up, y_train_up)\n",
    "'eval_model(rforest_classifier_upsampled, x_test, y_test)'\n",
    "\n",
    "# Downsampling – Reducing Majority Class instances to Minority Class.\n",
    "# Create a function that performs Upsampling or Downsampling automatically based on user input.\n",
    "\n",
    "def balance_sample(x_train, y_train, sample_mode='up'):\n",
    "    train_df = x_train.copy()\n",
    "    train_df['LOAN_DEFAULT'] = y_train\n",
    "    \n",
    "    train_minority = train_df[train_df['LOAN_DEFAULT'] == 1]\n",
    "    train_majority = train_df[train_df['LOAN_DEFAULT'] == 0]\n",
    "    train_df_sampled = pd.DataFrame()\n",
    "    \n",
    "    if sample_mode == 'down':\n",
    "        train_majority_down = resample(train_majority, replace=False, n_samples=train_minority.shape[0], random_state=123)\n",
    "        train_sample_df = pd.concat([train_minority, train_majority_down])\n",
    "    else:\n",
    "        train_minority_up = resample(train_minority, replace=True, n_samples=train_majority.shape[0], random_state=123)\n",
    "        train_sampled_df = pd.concat([train_majority,train_minority_up])\n",
    "   \n",
    "    x_train_samp = train_sampled_df.drop(columns=['LOAN_DEFAULT'], axis=1)\n",
    "    y_train_samp = train_sampled_df['LOAN_DEFAULT']\n",
    "    \n",
    "    return x_train_samp, y_train_samp"
   ]
  },
  {
   "cell_type": "markdown",
   "id": "c60db53e",
   "metadata": {},
   "source": [
    "Class Balancing - SMOTE"
   ]
  },
  {
   "cell_type": "code",
   "execution_count": 19,
   "id": "ff5a4f14",
   "metadata": {},
   "outputs": [
    {
     "name": "stdout",
     "output_type": "stream",
     "text": [
      "0    145996\n",
      "1    145996\n",
      "Name: LOAN_DEFAULT, dtype: int64\n",
      "0    0.5\n",
      "1    0.5\n",
      "Name: LOAN_DEFAULT, dtype: float64\n"
     ]
    },
    {
     "data": {
      "text/plain": [
       "'eval_model(rforest_classifier_smote, x_test, y_test)'"
      ]
     },
     "execution_count": 19,
     "metadata": {},
     "output_type": "execute_result"
    }
   ],
   "source": [
    "#%% Synthetic Minority Oversampling Technique SMOTE – 'imblearn' library            # Sampling technique which upsamples minority class by\n",
    "                                                                           # creating new data points rather than copying existing dates.\n",
    "smote = SMOTE() # Initialize\n",
    "x_train_synth, y_train_synth = smote.fit_resample(x_train, y_train)\n",
    "\n",
    "# Check Distribution of target variable in this new data\n",
    "print(y_train_synth.value_counts())\n",
    "print(y_train_synth.value_counts(normalize=True))       # Good. Evenely distributed classes.\n",
    "\n",
    "# rforest_classifier_smote = RandomForestClassifier(n_estimators=100, max_depth=15)\n",
    "# rforest_classifier_smote.fit(x_train_synth, y_train_synth)\n",
    "'eval_model(rforest_classifier_smote, x_test, y_test)'  # To evaluate.\n"
   ]
  },
  {
   "cell_type": "code",
   "execution_count": 20,
   "id": "00aff468",
   "metadata": {},
   "outputs": [
    {
     "data": {
      "text/plain": [
       "'Summary:\\nThis notebook focuses on improving loan default prediction performance by addressing \\nclass imbalance, where default cases represent only ~21% of the data. Various techniques \\nare explored, including class weighting (balanced, manual), resampling (upsampling and \\ndownsampling), and SMOTE to equalize class representation. Each method is evaluated using\\na custom eval_model() function measuring accuracy, precision, recall, and AUC. Among all \\nmethods tested, downsampling the majority class yielded the most balanced and effective model\\nresults.\\n'"
      ]
     },
     "execution_count": 20,
     "metadata": {},
     "output_type": "execute_result"
    }
   ],
   "source": [
    "#%% Summary\n",
    "\"\"\"Summary:\n",
    "This notebook focuses on improving loan default prediction performance by addressing \n",
    "class imbalance, where default cases represent only ~21% of the data. Various techniques \n",
    "are explored, including class weighting (balanced, manual), resampling (upsampling and \n",
    "downsampling), and SMOTE to equalize class representation. Each method is evaluated using\n",
    "a custom eval_model() function measuring accuracy, precision, recall, and AUC. Among all \n",
    "methods tested, downsampling the majority class yielded the most balanced and effective model\n",
    "results.\n",
    "\"\"\""
   ]
  }
 ],
 "metadata": {
  "kernelspec": {
   "display_name": "Python 3 (ipykernel)",
   "language": "python",
   "name": "python3"
  },
  "language_info": {
   "codemirror_mode": {
    "name": "ipython",
    "version": 3
   },
   "file_extension": ".py",
   "mimetype": "text/x-python",
   "name": "python",
   "nbconvert_exporter": "python",
   "pygments_lexer": "ipython3",
   "version": "3.9.12"
  }
 },
 "nbformat": 4,
 "nbformat_minor": 5
}
