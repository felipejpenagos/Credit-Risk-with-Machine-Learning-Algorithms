{
 "cells": [
  {
   "cell_type": "markdown",
   "id": "1ec6dd91",
   "metadata": {},
   "source": [
    "#### Loan Default Prediction with Machine Learning \n",
    "Model A – Logisic Regression (Binary Classification Model)"
   ]
  },
  {
   "cell_type": "code",
   "execution_count": 11,
   "id": "4b8ee955",
   "metadata": {},
   "outputs": [],
   "source": [
    "#!/usr/bin/env python3\n",
    "# -*- coding: utf-8 -*-\n",
    "\"\"\"\n",
    "Created on Sun Apr 28 22:39:28 2024\n",
    "\n",
    "@author: Felipe J.\n",
    "\n",
    "Loan Default Prediction with ML pt.4, Classification w/ Logistic Regression.\n",
    "\n",
    "\"\"\"\n",
    "\n",
    "# Import Packages and Data\n",
    "\n",
    "import numpy as np\n",
    "import pandas as pd\n",
    "import matplotlib.pyplot as plt\n",
    "from sklearn.linear_model import LogisticRegression\n",
    "from sklearn.model_selection import train_test_split\n",
    "\n",
    "loan_df = pd.read_csv('/Users/pjaram84/Desktop/Independent Pursuits/Machine Learning with CFI/Loan Default Prediction ML/data/vehicle_loans_feat_eng.csv', \n",
    "                      index_col='UNIQUEID')"
   ]
  },
  {
   "cell_type": "markdown",
   "id": "6c9eef4a",
   "metadata": {},
   "source": [
    "#### Train, Test, and Split the Data"
   ]
  },
  {
   "cell_type": "code",
   "execution_count": 12,
   "id": "35d75539",
   "metadata": {},
   "outputs": [
    {
     "name": "stdout",
     "output_type": "stream",
     "text": [
      "<class 'pandas.core.frame.DataFrame'>\n",
      "Int64Index: 233154 entries, 420825 to 630213\n",
      "Data columns (total 34 columns):\n",
      " #   Column                               Non-Null Count   Dtype  \n",
      "---  ------                               --------------   -----  \n",
      " 0   DISBURSED_AMOUNT                     233154 non-null  float64\n",
      " 1   ASSET_COST                           233154 non-null  float64\n",
      " 2   LTV                                  233154 non-null  float64\n",
      " 3   MANUFACTURER_ID                      233154 non-null  int64  \n",
      " 4   EMPLOYMENT_TYPE                      233154 non-null  object \n",
      " 5   STATE_ID                             233154 non-null  int64  \n",
      " 6   MOBILENO_AVL_FLAG                    233154 non-null  int64  \n",
      " 7   AADHAR_FLAG                          233154 non-null  int64  \n",
      " 8   PAN_FLAG                             233154 non-null  int64  \n",
      " 9   VOTERID_FLAG                         233154 non-null  int64  \n",
      " 10  DRIVING_FLAG                         233154 non-null  int64  \n",
      " 11  PASSPORT_FLAG                        233154 non-null  int64  \n",
      " 12  PERFORM_CNS_SCORE                    233154 non-null  float64\n",
      " 13  PERFORM_CNS_SCORE_DESCRIPTION        233154 non-null  object \n",
      " 14  PRI_NO_OF_ACCTS                      233154 non-null  int64  \n",
      " 15  SEC_NO_OF_ACCTS                      233154 non-null  int64  \n",
      " 16  NEW_ACCTS_IN_LAST_SIX_MONTHS         233154 non-null  float64\n",
      " 17  DELINQUENT_ACCTS_IN_LAST_SIX_MONTHS  233154 non-null  float64\n",
      " 18  NO_OF_INQUIRIES                      233154 non-null  float64\n",
      " 19  LOAN_DEFAULT                         233154 non-null  int64  \n",
      " 20  AGE                                  233154 non-null  float64\n",
      " 21  DISBURSAL_MONTH                      233154 non-null  int64  \n",
      " 22  AVERAGE_ACCT_AGE_MONTHS              233154 non-null  float64\n",
      " 23  CREDIT_HISTORY_LENGTH_MONTHS         233154 non-null  float64\n",
      " 24  DISBURSED_CAT                        233154 non-null  object \n",
      " 25  DISBURSAL_DIFFERENCE                 233154 non-null  float64\n",
      " 26  TOTAL_ACCTS                          233154 non-null  float64\n",
      " 27  TOTAL_ACTIVE_ACCTS                   233154 non-null  float64\n",
      " 28  TOTAL_OVERDUE_ACCTS                  233154 non-null  float64\n",
      " 29  TOTAL_CURRENT_BALANCE                233154 non-null  float64\n",
      " 30  TOTAL_SANCTIONED_AMOUNT              233154 non-null  float64\n",
      " 31  TOTAL_DISBURSED_AMOUNT               233154 non-null  float64\n",
      " 32  TOTAL_INSTAL_AMT                     233154 non-null  float64\n",
      " 33  OVERDUE_PCT                          233154 non-null  float64\n",
      "dtypes: float64(19), int64(12), object(3)\n",
      "memory usage: 62.3+ MB\n"
     ]
    }
   ],
   "source": [
    "#%% Train Test Split\n",
    "\n",
    "loan_df.info()\n",
    "category_cols = ['MANUFACTURER_ID', 'STATE_ID', 'DISBURSAL_MONTH', 'DISBURSED_CAT', # Observe, the first 3 columns are \n",
    "                 'PERFORM_CNS_SCORE_DESCRIPTION', 'EMPLOYMENT_TYPE']                # stored as int64 type but they're\n",
    "# Convert to categorical using ' .astype() ' function.                              # really categorical data.\n",
    "loan_df[category_cols] = loan_df[category_cols].astype('category')  # Specify and convert columns as categorical.\n",
    "                                                                    # data type 'category' is more memory efficient than 'object'\n",
    "\n",
    "# Excercise: select 6 variables including our Target (Y) and 'Disbursed_Cat' in new df. Perform TrainTestSplit.\n",
    "loan_df_small = loan_df[['TOTAL_DISBURSED_AMOUNT', 'DISBURSED_CAT', 'PERFORM_CNS_SCORE', \n",
    "                        'OVERDUE_PCT', 'LTV', 'LOAN_DEFAULT']] # We have a mix of numerical and categorical data.\n",
    "\n",
    "X = loan_df_small.drop(columns=['LOAN_DEFAULT'], axis=1) # Define X data. Note, Recall 'axis=1'\n",
    "y = loan_df_small['LOAN_DEFAULT']                        # Define Y data.\n",
    "\n",
    "x_train, x_test, y_train, y_test = train_test_split(X, y, train_size=0.8, random_state=84)  \n",
    "    # ORDER MATTERS! x_train,  x_test,  y_train,  y_test                                                                                                         \n",
    "    # We're not done. We didn't OneHotEncoded category features.                        \n",
    "    # Must do it."
   ]
  },
  {
   "cell_type": "markdown",
   "id": "a927e588",
   "metadata": {},
   "source": [
    "#### One Hot Encoding categorical variables"
   ]
  },
  {
   "cell_type": "code",
   "execution_count": 13,
   "id": "56db3272",
   "metadata": {},
   "outputs": [],
   "source": [
    "#%% Dummy Variables – Variable Encoding\n",
    "# Turn unordered categorical features into useful data; so our Logistic Regression Model can deal with it.\n",
    "\n",
    "# If we were to build our binary classifier right now we'd get an error message due to      # Example: Get every different entry in State_ID column and make it a separate\n",
    "# our category column(s). Our model doesnt know who to treat 'str' instead of int data.     # column. Then give 0s and 1s to each row whether they have (or not) that ID.\n",
    "\n",
    "# One Hot Encode\n",
    "loan_data_dumm = pd.get_dummies(loan_df_small, prefix_sep='_ _ _', drop_first=True)     # Here we have added multiple new columns due to OneHotEncoding. (Binary Columns).\n",
    "    # pd.get_dummies() only OneHotEncoded 'category' columns, so the other ones are left intact.\n",
    "    # in practice, we would one hot encode with sklearn OHE.\n",
    "    \n",
    "#%% Train and Validate\n",
    "# Train Testn Split dataframe including the OneHotEncoded columns we just created.\n",
    "X_enc = loan_data_dumm.drop(columns=['LOAN_DEFAULT'], axis=1)\n",
    "Y_enc = loan_data_dumm['LOAN_DEFAULT']\n",
    "x_train_enc, x_test_enc, y_train_enc, y_test_enc = train_test_split(X_enc, Y_enc, train_size=0.8, random_state=84)\n"
   ]
  },
  {
   "cell_type": "code",
   "execution_count": 14,
   "id": "52ed19f0",
   "metadata": {},
   "outputs": [
    {
     "data": {
      "text/plain": [
       "0.7836846732860114"
      ]
     },
     "execution_count": 14,
     "metadata": {},
     "output_type": "execute_result"
    }
   ],
   "source": [
    "#%% Build the Binary Classifier Model\n",
    "\n",
    "our_logistic_model = LogisticRegression() # Initialize\n",
    "our_logistic_model.fit(x_train_enc, y_train_enc)  # Fit the logistic model.\n",
    "\n",
    "#%% Generate Predictions\n",
    "preds = our_logistic_model.predict(x_test_enc) # Predictions made on X-test data.\n",
    "\n",
    "# Get Accuracy\n",
    "our_logistic_model.score(x_test_enc, y_test_enc) # Great, Predictions compared to Actual Y-test output.\n",
    "                                                 # Our model has 78% accuracy."
   ]
  },
  {
   "cell_type": "code",
   "execution_count": 15,
   "id": "f8f447ec",
   "metadata": {},
   "outputs": [
    {
     "name": "stdout",
     "output_type": "stream",
     "text": [
      "Model Accuracy: 78.37%\n"
     ]
    }
   ],
   "source": [
    "model_accuracy = our_logistic_model.score(x_test_enc, y_test_enc)\n",
    "print(f\"Model Accuracy: {model_accuracy * 100:.2f}%\")"
   ]
  },
  {
   "cell_type": "code",
   "execution_count": 16,
   "id": "9257e17a",
   "metadata": {},
   "outputs": [
    {
     "data": {
      "text/plain": [
       "'\\nSummary:\\n- We OneHotEncoded necessary Categorical Features\\n- We split our data into X and Y dataframes\\n- Then we used train_test_split function\\n- We fed our data to our LogisticRegression Model and made Predictions.\\n'"
      ]
     },
     "execution_count": 16,
     "metadata": {},
     "output_type": "execute_result"
    }
   ],
   "source": [
    "#%% Summary:                                                 \n",
    "\"\"\"\n",
    "Summary:\n",
    "- We OneHotEncoded necessary Categorical Features\n",
    "- We split our data into X and Y dataframes\n",
    "- Then we used train_test_split function\n",
    "- We fed our data to our LogisticRegression Model and made Predictions.\n",
    "\"\"\""
   ]
  }
 ],
 "metadata": {
  "kernelspec": {
   "display_name": "Python 3 (ipykernel)",
   "language": "python",
   "name": "python3"
  },
  "language_info": {
   "codemirror_mode": {
    "name": "ipython",
    "version": 3
   },
   "file_extension": ".py",
   "mimetype": "text/x-python",
   "name": "python",
   "nbconvert_exporter": "python",
   "pygments_lexer": "ipython3",
   "version": "3.9.12"
  }
 },
 "nbformat": 4,
 "nbformat_minor": 5
}
