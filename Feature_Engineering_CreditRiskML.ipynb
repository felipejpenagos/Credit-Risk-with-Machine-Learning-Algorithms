{
 "cells": [
  {
   "cell_type": "markdown",
   "id": "409ac822",
   "metadata": {},
   "source": [
    "#### Loan Default Prediction with Machine Learning\n",
    "Part 3, Feature Engineering\n",
    "\n",
    "Done with Corporate Finance Institute"
   ]
  },
  {
   "cell_type": "markdown",
   "id": "4b3845a1",
   "metadata": {},
   "source": [
    "#### Import Packages and Data"
   ]
  },
  {
   "cell_type": "code",
   "execution_count": 26,
   "id": "a4ab56d4",
   "metadata": {},
   "outputs": [],
   "source": [
    "#!/usr/bin/env python3\n",
    "# -*- coding: utf-8 -*-\n",
    "\"\"\"\n",
    "Created on Fri Apr 26 23:56:28 2024\n",
    "\n",
    "@author: Felipe J.\n",
    "\n",
    "Loan Default Prediction with ML pt.3, Feature Engineering.\n",
    "\"\"\"\n",
    "\n",
    "# Import Packages and Data\n",
    "import numpy as np\n",
    "import pandas as pd\n",
    "import matplotlib.pyplot as plt\n",
    "import seaborn as sns\n",
    "from sklearn.preprocessing import MinMaxScaler\n",
    "\n",
    "loan_df = pd.read_csv('/Users/pjaram84/Desktop/Independent Pursuits/Machine Learning with CFI/Loan Default Prediction ML/data/vehicle_loans_eda.csv', index_col='UNIQUEID')\n"
   ]
  },
  {
   "cell_type": "markdown",
   "id": "e256395a",
   "metadata": {},
   "source": [
    "#%% Bring and Build reusable functions to explore any feature in our data set."
   ]
  },
  {
   "cell_type": "code",
   "execution_count": 27,
   "id": "90612cdf",
   "metadata": {},
   "outputs": [],
   "source": [
    "#%% Bring Reusable Functions – from EDA\n",
    "# Both for Categorical & Continuous columns. These functions will be useful in investigating our features.\n",
    "def explore_categorical(col_name):\n",
    "    print(\"\\n\")\n",
    "    print(\"{0} Summary:\".format(col_name))\n",
    "    print(\"\\n\")\n",
    "    \n",
    "    print(\"{0} Counts:\".format(col_name))\n",
    "    print(loan_df[col_name].value_counts())\n",
    "    print(\"\\n\")\n",
    "    \n",
    "    print(\"{0} Percentage Counts:\".format(col_name))\n",
    "    print(loan_df[col_name].value_counts(normalize=True))\n",
    "    print(\"\\n\")\n",
    "    \n",
    "    print(\"{0} Loan Default Counts:\".format(col_name))\n",
    "    print(loan_df.groupby(col_name)['LOAN_DEFAULT'].value_counts().unstack(level=-1))\n",
    "    print(\"\\n\")\n",
    "    \n",
    "    print(\"{0} Loan Default Counts Percentage\")\n",
    "    print(loan_df.groupby(col_name)['LOAN_DEFAULT'].value_counts(normalize=True).unstack(level=-1))\n",
    "\n",
    "def explore_continuous(col_name):\n",
    "    # Print Statistical Summary\n",
    "    print(\"{0} Summary:\".format(col_name)) # Writes \"Summary: [col_name]\"\n",
    "    print(\"\\n\")\n",
    "    print(loan_df[col_name].describe()) # Prints the actual summary stats.\n",
    "    print(\"\\n\")    \n",
    "    # Look at Boxplot\n",
    "    plt.figure(1)\n",
    "    sns.boxplot(x=col_name, data=loan_df)\n",
    "    plt.show()    \n",
    "    # Look at Distribution\n",
    "    plt.figure(2)\n",
    "    sns.distplot(loan_df[col_name])\n",
    "    plt.show()   \n",
    "    # Look deeper by grouping with our target variable\n",
    "    print(\"{0} Grouped Summary:\".format(col_name))\n",
    "    print(\"\\n\")\n",
    "    print(loan_df.groupby('LOAN_DEFAULT')[col_name].describe())\n",
    "    # Looked at grouped boxplot\n",
    "    plt.figure(3)\n",
    "    sns.boxplot(x=col_name, y='LOAN_DEFAULT', data=loan_df, orient='h')\n",
    "    plt.show()\n",
    "    "
   ]
  },
  {
   "cell_type": "markdown",
   "id": "83f62732",
   "metadata": {},
   "source": [
    "#### Feature Engineering: Binning and Grouping"
   ]
  },
  {
   "cell_type": "code",
   "execution_count": 28,
   "id": "f933e95d",
   "metadata": {},
   "outputs": [
    {
     "name": "stdout",
     "output_type": "stream",
     "text": [
      "\n",
      "\n",
      "DISBURSED_CAT Summary:\n",
      "\n",
      "\n",
      "DISBURSED_CAT Counts:\n",
      "45k-60k     126904\n",
      "60k-75k      49824\n",
      "30k-45k      40626\n",
      "75k-150k     10871\n",
      "13k-30k       4865\n",
      "150k-1m         64\n",
      "Name: DISBURSED_CAT, dtype: int64\n",
      "\n",
      "\n",
      "DISBURSED_CAT Percentage Counts:\n",
      "45k-60k     0.544293\n",
      "60k-75k     0.213696\n",
      "30k-45k     0.174245\n",
      "75k-150k    0.046626\n",
      "13k-30k     0.020866\n",
      "150k-1m     0.000274\n",
      "Name: DISBURSED_CAT, dtype: float64\n",
      "\n",
      "\n",
      "DISBURSED_CAT Loan Default Counts:\n",
      "LOAN_DEFAULT       0      1\n",
      "DISBURSED_CAT              \n",
      "13k-30k         4207    658\n",
      "30k-45k        34323   6303\n",
      "45k-60k        98830  28074\n",
      "60k-75k        37056  12768\n",
      "75k-150k        8070   2801\n",
      "150k-1m           57      7\n",
      "\n",
      "\n",
      "{0} Loan Default Counts Percentage\n",
      "LOAN_DEFAULT          0         1\n",
      "DISBURSED_CAT                    \n",
      "13k-30k        0.864748  0.135252\n",
      "30k-45k        0.844853  0.155147\n",
      "45k-60k        0.778778  0.221222\n",
      "60k-75k        0.743738  0.256262\n",
      "75k-150k       0.742342  0.257658\n",
      "150k-1m        0.890625  0.109375\n"
     ]
    }
   ],
   "source": [
    "#%% Binning (Grouping)\n",
    "\n",
    "# explore_continuous('DISBURSED_AMOUNT') \n",
    "    # Explore 'DISBURSED_AMOUNT' column.    # Recall, we noticed previously it has large outliers.\n",
    "    # Notice: The largest outlier is almost twice as much as the next large outlier, which is exterme. \n",
    "    # However, if converted to indian currency (actual for data), its about $10000-$13000 usd. Which is still reasonable.\n",
    "\n",
    "# Get row index of that outlier in Disbursed Amount\n",
    "loan_df['DISBURSED_AMOUNT'].idxmax()                # .idxmax() function outputs the index position of the row \n",
    "loan_df.loc[loan_df['DISBURSED_AMOUNT'].idxmax()]   #  with the largest value in a specified column.\n",
    "# Eexploring the entire row, outlier seems reasonable since the 'ASSET_COST' = 1628992. Which is more than Disbursed Amount (loan).\n",
    "\n",
    "# Since we decided to keep outlier, we must deal with skewing due to extreme values.\n",
    "# One way to do this is with Binning.      # Create Buckets for 'Disbursed Amount'\n",
    "disbursed_buckets = [13000, 30000, 45000, 60000, 75000, 150000, 1000000] # Theres also way to create buckets statistically (instead of manually).\n",
    "disbursed_labels = ['13k-30k', '30k-45k', '45k-60k', '60k-75k', '75k-150k', '150k-1m'] # Again, we could've calculated binwidth automatically\n",
    "                                                                                       # based on (e.g) frequency, distribution, etc.\n",
    "loan_df['DISBURSED_CAT'] = pd.cut(loan_df['DISBURSED_AMOUNT'], disbursed_buckets, labels=disbursed_labels) # Binned. Grouped. Bucketed.\n",
    "explore_categorical('DISBURSED_CAT') # Use our reusable function to explore our new categorical column."
   ]
  },
  {
   "cell_type": "markdown",
   "id": "d81ad336",
   "metadata": {},
   "source": [
    "#### Feature Engineering: Combining Features and Creating New Ones"
   ]
  },
  {
   "cell_type": "code",
   "execution_count": 29,
   "id": "de66eee5",
   "metadata": {},
   "outputs": [],
   "source": [
    "#%% Combining Features\n",
    "# Remember we also did this when we combined 'date of birth' and 'disbursed date' into a new column 'AGE'.\n",
    "\n",
    "# Calculate Disbursal Differencem (new feature) between loan amount and Asset Cost.\n",
    "loan_df['DISBURSAL_DIFFERENCE'] = loan_df['ASSET_COST'] - loan_df['DISBURSED_AMOUNT']\n",
    "\n",
    "# Observe, there are many PRI_... and SEC_,,, columns. This means primary accounts and secondary account.    # A primary account is loan where customer is the sole \n",
    "                                                                                                             # recipient of the disbursal. Secondary account is where \n",
    "# We can create new 'Total Accounts'. (Store sum of primary and secondary accts).                            # customer is co-applicant or guarantor for the loan. \n",
    "loan_df['TOTAL_ACCTS'] = loan_df['PRI_NO_OF_ACCTS'] + loan_df['SEC_NO_OF_ACCTS']                             # Most data for SEC_... accounts if full of zeros, however \n",
    "                                                                                                             # there's still a few useful data info.\n",
    "# Create 'TOTAL...' columns for all PRI_ and SEC_ columns.\n",
    "# Should be 7 new coumns with the 'TOTAL_...'\n",
    "loan_df['TOTAL_ACTIVE_ACCTS'] = loan_df['PRI_ACTIVE_ACCTS'] + loan_df['SEC_ACTIVE_ACCTS']\n",
    "loan_df['TOTAL_OVERDUE_ACCTS'] = loan_df['PRI_OVERDUE_ACCTS'] + loan_df['SEC_OVERDUE_ACCTS']\n",
    "loan_df['TOTAL_CURRENT_BALANCE'] = loan_df['PRI_CURRENT_BALANCE'] + loan_df['SEC_CURRENT_BALANCE']\n",
    "loan_df['TOTAL_SANCTIONED_AMOUNT'] = loan_df['PRI_SANCTIONED_AMOUNT'] + loan_df['SEC_SANCTIONED_AMOUNT']\n",
    "loan_df['TOTAL_DISBURSED_AMOUNT'] = loan_df['PRI_DISBURSED_AMOUNT'] + loan_df['SEC_DISBURSED_AMOUNT']\n",
    "loan_df['TOTAL_INSTAL_AMT'] = loan_df['PRIMARY_INSTAL_AMT'] + loan_df['SEC_INSTAL_AMT']\n",
    "\n",
    "# Drop the columns that we just replaced.\n",
    "drop_cols = ['PRI_ACTIVE_ACCTS','PRI_OVERDUE_ACCTS', 'PRI_CURRENT_BALANCE', \n",
    "             'PRI_SANCTIONED_AMOUNT', 'PRI_DISBURSED_AMOUNT', 'PRIMARY_INSTAL_AMT',\n",
    "             'SEC_ACTIVE_ACCTS', 'SEC_OVERDUE_ACCTS', 'SEC_CURRENT_BALANCE',  \n",
    "             'SEC_SANCTIONED_AMOUNT', 'SEC_DISBURSED_AMOUNT', 'SEC_INSTAL_AMT']\n",
    "loan_df = loan_df.drop(columns=drop_cols, axis=1)\n",
    "\n",
    "# Create new column 'OVERDUE_PCT\"    # This will use our new 'TOTAL ACCTS' and TOTAL OVERDUE ACCTS to caluclate (%) of active accounts that are overdue.\n",
    "loan_df['OVERDUE_PCT'] = loan_df['TOTAL_OVERDUE_ACCTS'] / loan_df['TOTAL_ACCTS']\n",
    "# This works but if both columns had 0s in the same row then we'd divide 0/0. Which would give us null values.\n",
    "loan_df['OVERDUE_PCT'].isnull().sum()   # Check for nulls. We got 115792 new null vals.\n",
    "loan_df['OVERDUE_PCT'] = loan_df['OVERDUE_PCT'].fillna(0) # fill in those missing values w/ 0.\n",
    "    # Awesome. \n",
    "    # We've reduced our data from 40 columns to 31. Acquired more useful data."
   ]
  },
  {
   "cell_type": "markdown",
   "id": "19aa69a2",
   "metadata": {},
   "source": [
    "#### Feature Engineering: Numerical Feature Scaling"
   ]
  },
  {
   "cell_type": "code",
   "execution_count": 30,
   "id": "ef2d16a6",
   "metadata": {},
   "outputs": [
    {
     "data": {
      "image/png": "[encoded data removed]",
      "text/plain": [
       "<Figure size 432x288 with 1 Axes>"
      ]
     },
     "metadata": {
      "needs_background": "light"
     },
     "output_type": "display_data"
    },
    {
     "data": {
      "image/png": "[encoded data removed]",
      "text/plain": [
       "<Figure size 432x288 with 1 Axes>"
      ]
     },
     "metadata": {
      "needs_background": "light"
     },
     "output_type": "display_data"
    }
   ],
   "source": [
    "#%% Scaling Features\n",
    "# We'll use Min Max Scaling to rescale our continuous variables into a range between 0 and 1.\n",
    "# This we'll ensure our model gives equal importance to each feature.\n",
    "\n",
    "# Create a list of numeric columns\n",
    "numeric_cols = ['DISBURSED_AMOUNT','ASSET_COST', 'LTV', 'NEW_ACCTS_IN_LAST_SIX_MONTHS','DELINQUENT_ACCTS_IN_LAST_SIX_MONTHS','NO_OF_INQUIRIES', \n",
    "                'AGE', 'AVERAGE_ACCT_AGE_MONTHS', 'CREDIT_HISTORY_LENGTH_MONTHS','PERFORM_CNS_SCORE', 'TOTAL_ACCTS', 'TOTAL_ACTIVE_ACCTS', \n",
    "                'TOTAL_OVERDUE_ACCTS', 'TOTAL_CURRENT_BALANCE', 'TOTAL_SANCTIONED_AMOUNT', 'TOTAL_DISBURSED_AMOUNT', 'TOTAL_INSTAL_AMT', 'OVERDUE_PCT',\n",
    "                'DISBURSAL_DIFFERENCE']\n",
    "loan_df[['LTV', 'ASSET_COST', 'AGE']].boxplot() # Visualize importance of scaling\n",
    "plt.show() # As you can clearly see, the scales of (e.g) these variables is vastly different. Thus, the importance of scaling.\n",
    "\n",
    "mm_scaler = MinMaxScaler() # Initialize.\n",
    "loan_df[numeric_cols] = mm_scaler.fit_transform(loan_df[numeric_cols]) # fit_transform to minmax scale all our numeric data.\n",
    "# Revisit boxplot in line 132 to see if scale got fixed  \n",
    "loan_df[['LTV', 'ASSET_COST', 'AGE']].boxplot()\n",
    "plt.show()\n",
    "    \n",
    "#%% Save into new CSV\n",
    "loan_df.to_csv('/Users/pjaram84/Desktop/Independent Pursuits/Machine Learning with CFI/Loan Default Prediction ML/data/vehicle_loans_feat_eng.csv')"
   ]
  },
  {
   "cell_type": "code",
   "execution_count": 32,
   "id": "18efa85f",
   "metadata": {},
   "outputs": [
    {
     "data": {
      "text/plain": [
       "'\\nWe modified the structure of our input data to help our models\\nbe as effective as possible. \\nPerformed:\\n- Binning\\n- Feature Combining (an drop others)\\n- Dealt with Null Values\\n- Scaled features and dealt with outliers \\n'"
      ]
     },
     "execution_count": 32,
     "metadata": {},
     "output_type": "execute_result"
    }
   ],
   "source": [
    "#%% Summary\n",
    "\"\"\"\n",
    "We modified the structure of our input data to help our models\n",
    "be as effective as possible. \n",
    "Performed:\n",
    "- Binning\n",
    "- Feature Combining (an drop others)\n",
    "- Dealt with Null Values\n",
    "- Scaled features and dealt with outliers \n",
    "\"\"\""
   ]
  }
 ],
 "metadata": {
  "kernelspec": {
   "display_name": "Python 3 (ipykernel)",
   "language": "python",
   "name": "python3"
  },
  "language_info": {
   "codemirror_mode": {
    "name": "ipython",
    "version": 3
   },
   "file_extension": ".py",
   "mimetype": "text/x-python",
   "name": "python",
   "nbconvert_exporter": "python",
   "pygments_lexer": "ipython3",
   "version": "3.9.12"
  }
 },
 "nbformat": 4,
 "nbformat_minor": 5
}
