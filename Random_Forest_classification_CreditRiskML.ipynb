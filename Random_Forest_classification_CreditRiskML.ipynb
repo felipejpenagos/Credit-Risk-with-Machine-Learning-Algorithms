{
 "cells": [
  {
   "cell_type": "markdown",
   "id": "43755edb",
   "metadata": {},
   "source": [
    "#### Loan Default Prediction using ML \n",
    "\n",
    "Model B: Random Forests for Classification Model\n",
    "\n",
    "We experimented with Random Forest hyperparameters— specifically the number of trees (n_estimators) and tree depth (max_depth)— to improve model performance. Increasing the number of trees from 1 to 300 showed diminishing returns, with the AUC peaking around 0.627. Limiting tree depth to 15 improved performance and reduced overfitting, achieving the best AUC of 0.65. Overall, tuning hyperparameters carefully can boost performance, but more is not always better."
   ]
  },
  {
   "cell_type": "markdown",
   "id": "39da9e41",
   "metadata": {},
   "source": [
    "#### Import Packages and Data"
   ]
  },
  {
   "cell_type": "code",
   "execution_count": 7,
   "id": "13b966b4",
   "metadata": {},
   "outputs": [],
   "source": [
    "#!/usr/bin/env python3\n",
    "# -*- coding: utf-8 -*-\n",
    "\"\"\"\n",
    "Created on Tue Apr 30 18:23:15 2024\n",
    "\n",
    "@author: Felipe J.\n",
    "\n",
    "Loan Defaultl Prediction with ML pt. 6, Classification with Random Forest\n",
    "\"\"\"\n",
    "\n",
    "import numpy as np\n",
    "import pandas as pd\n",
    "import matplotlib.pyplot as plt\n",
    "from sklearn.model_selection import train_test_split\n",
    "from sklearn.ensemble import RandomForestClassifier\n",
    "from sklearn.metrics import confusion_matrix, accuracy_score, precision_score, recall_score, f1_score, roc_curve, auc, plot_confusion_matrix\n",
    "\n",
    "loan_df = pd.read_csv('/Users/pjaram84/Desktop/Independent Pursuits/Machine Learning with CFI/Loan Default Prediction ML/data/vehicle_loans_feat.csv',\n",
    "                      index_col='UNIQUEID')"
   ]
  },
  {
   "cell_type": "code",
   "execution_count": 8,
   "id": "09e406c5",
   "metadata": {},
   "outputs": [
    {
     "data": {
      "text/plain": [
       "RandomForestClassifier()"
      ]
     },
     "execution_count": 8,
     "metadata": {},
     "output_type": "execute_result"
    }
   ],
   "source": [
    "#%% Convert categorical features to 'categorical' data type\n",
    "category_cols = ['MANUFACTURER_ID', 'STATE_ID', 'DISBURSAL_MONTH', 'DISBURSED_CAT',\n",
    "                'PERFORM_CNS_SCORE_DESCRIPTION', 'EMPLOYMENT_TYPE']\n",
    "loan_df[category_cols] = loan_df[category_cols].astype('category')\n",
    "\n",
    "#%% One Hot Encode Rapidly\n",
    "loan_df_enc = pd.get_dummies(loan_df, prefix_sep='_ _ _')\n",
    "\n",
    "#%% Building the Random Forest   \n",
    "X = loan_df_enc.drop(columns=['LOAN_DEFAULT'])\n",
    "y = loan_df_enc['LOAN_DEFAULT']\n",
    "    \n",
    "x_train, x_test, y_train, y_test = train_test_split(X, y, train_size=0.8, random_state=84)\n",
    "    \n",
    "rforest_classifier = RandomForestClassifier() # Initialize\n",
    "rforest_classifier.fit(x_train, y_train)      # Fit with training data.\n",
    "\n"
   ]
  },
  {
   "cell_type": "markdown",
   "id": "aa6a887d",
   "metadata": {},
   "source": [
    "#### Evaluate Random Forest Classifier, reusable code function"
   ]
  },
  {
   "cell_type": "code",
   "execution_count": 9,
   "id": "b580e5ed",
   "metadata": {},
   "outputs": [],
   "source": [
    "#%% Evaluate\n",
    "# Get eval_model function we deined ealrier (to evaluate binary models' performance).\n",
    "def eval_model(model_name, x_test, y_test):  \n",
    "    predictions = model_name.predict(x_test) \n",
    "    probs = model_name.predict_proba(x_test) \n",
    "    \n",
    "    # Metrics (Scores)\n",
    "    accuracy = model_name.score(x_test, y_test)\n",
    "    precision = precision_score(y_test, predictions)\n",
    "    recall = recall_score(y_test, predictions)\n",
    "    f1 = f1_score(y_test, predictions) \n",
    "    print(\"Accuracy:\", accuracy)\n",
    "    print(\"Precision:\", precision)\n",
    "    print(\"Recall:\", recall)\n",
    "    print(\"f1 score:\", f1)\n",
    "    \n",
    "    # Confusion Matrix\n",
    "    conf_mat = confusion_matrix(y_test, predictions)\n",
    "    plot_confusion_matrix(model_name, x_test, y_test)\n",
    "    \n",
    "    tn = conf_mat[0][0]  # True Negatives \n",
    "    fp = conf_mat[0][1]  # False Positives\n",
    "    fn = conf_mat[1][0]  # False Negatives \n",
    "    tp = conf_mat[1][1]  # True Positives\n",
    "    print (\"True Negatives (Correct Non-Defaults):\", tn)    \n",
    "    print (\"False Positives (Incorrect Defaults):\", fp)    \n",
    "    print (\"False Negatives (Incorrect Non-Defaults):\", fn) \n",
    "    print (\"True Positives (Correct Defaults):\", tp) \n",
    "    \n",
    "    # The ROC curve\n",
    "    probs_df = pd.DataFrame()           \n",
    "    probs_df['Prob. (0)'] = probs[:, 0]     \n",
    "    probs_df['Prob. (1)'] = probs[:, 1] \n",
    "    print(probs_df.describe())           \n",
    "    \n",
    "    fpr, tpr, threshold = roc_curve(y_test, probs[:, 1], pos_label=1)\n",
    "    roc_auc = auc(fpr, tpr)              \n",
    "    print(\"Area under ROC curve (AUC):\", roc_auc)\n",
    "    \n",
    "    plt.figure(2)                        \n",
    "    plt.title('Receiver Operating Characteristic (ROC) Curve')\n",
    "    plt.plot(fpr, tpr, color='darkorange', label='ROC curve (AUC = %0.2f)' % roc_auc)\n",
    "    plt.plot([0, 1], [0, 1], color='navy', linestyle='--', label='TPR=FPR line')     \n",
    "    plt.xlim([0, 1])                     \n",
    "    plt.ylim([0, 1])\n",
    "    plt.xlabel('False Positive Rate')\n",
    "    plt.ylabel('True Positive Rate')\n",
    "    plt.legend(loc=\"lower right\") \n",
    "    plt.show()\n",
    "    \n",
    "    # Prediction Percentages\n",
    "    results_df = pd.DataFrame()                         \n",
    "    results_df['true_class'] = y_test               \n",
    "    results_df['predicted_class'] = list(predictions)   \n",
    "    results_df['default_prob'] = probs[:, 1]   \n",
    "    pred_percentages = results_df.groupby('true_class')['predicted_class'].value_counts(normalize=True)\n",
    "    print(pred_percentages)\n",
    "    # We can evaluate performance with: eval_model(model_name, x_test, y_test) "
   ]
  },
  {
   "cell_type": "code",
   "execution_count": 10,
   "id": "909aba49",
   "metadata": {},
   "outputs": [
    {
     "name": "stdout",
     "output_type": "stream",
     "text": [
      "Accuracy: 0.9996354336998654\n",
      "Precision: 0.9994568303582451\n",
      "Recall: 0.9988649542280456\n",
      "f1 score: 0.9991608046402567\n"
     ]
    },
    {
     "name": "stderr",
     "output_type": "stream",
     "text": [
      "/Users/pjaram84/opt/anaconda3/lib/python3.9/site-packages/sklearn/utils/deprecation.py:87: FutureWarning: Function plot_confusion_matrix is deprecated; Function `plot_confusion_matrix` is deprecated in 1.0 and will be removed in 1.2. Use one of the class methods: ConfusionMatrixDisplay.from_predictions or ConfusionMatrixDisplay.from_estimator.\n",
      "  warnings.warn(msg, category=FutureWarning)\n"
     ]
    },
    {
     "name": "stdout",
     "output_type": "stream",
     "text": [
      "True Negatives (Correct Non-Defaults): 145974\n",
      "False Positives (Incorrect Defaults): 22\n",
      "False Negatives (Incorrect Non-Defaults): 46\n",
      "True Positives (Correct Defaults): 40481\n",
      "           Prob. (0)      Prob. (1)\n",
      "count  186523.000000  186523.000000\n",
      "mean        0.779764       0.220236\n",
      "std         0.273224       0.273224\n",
      "min         0.000000       0.000000\n",
      "25%         0.830000       0.050000\n",
      "50%         0.910000       0.090000\n",
      "75%         0.950000       0.170000\n",
      "max         1.000000       1.000000\n",
      "Area under ROC curve (AUC): 0.9999892198964363\n"
     ]
    },
    {
     "data": {
      "image/png": "[encoded data removed]",
      "text/plain": [
       "<Figure size 432x288 with 2 Axes>"
      ]
     },
     "metadata": {
      "needs_background": "light"
     },
     "output_type": "display_data"
    },
    {
     "data": {
      "image/png": "[encoded data removed]",
      "text/plain": [
       "<Figure size 432x288 with 1 Axes>"
      ]
     },
     "metadata": {
      "needs_background": "light"
     },
     "output_type": "display_data"
    },
    {
     "name": "stdout",
     "output_type": "stream",
     "text": [
      "true_class  predicted_class\n",
      "0           0                  0.999849\n",
      "            1                  0.000151\n",
      "1           1                  0.998865\n",
      "            0                  0.001135\n",
      "Name: predicted_class, dtype: float64\n"
     ]
    }
   ],
   "source": [
    "#%% Identifying Overfitting in our Results\n",
    "eval_model(rforest_classifier, x_train, y_train)            # If we run our model evaluation function, but using our training data, we can easily\n",
    "    # Accuracy, Precision, Recall, and F1, are all 99%.     # see that we're overfitting to training data. We get nearly perfect results in train data.\n",
    "    # ROC curve has auc of nearly one, that is the curve is sticked to y-axis and top part of graph. \n",
    "    # Overfitted to training data..   "
   ]
  },
  {
   "cell_type": "markdown",
   "id": "ee9f62e0",
   "metadata": {},
   "source": [
    "#### Hyperparameters and Hyperparameter Tuning"
   ]
  },
  {
   "cell_type": "code",
   "execution_count": 12,
   "id": "1ffec5ce",
   "metadata": {},
   "outputs": [
    {
     "data": {
      "text/plain": [
       "' \\nSummary:\\n- We built a Random Forest classification model. \\n- Tunned and experimented distinct hyperparameters to increase performance.\\n    * Size of the Forest\\n    * Depth of the Trees\\n- Reused model evaluation function from earlier files to assess our models.\\n'"
      ]
     },
     "execution_count": 12,
     "metadata": {},
     "output_type": "execute_result"
    }
   ],
   "source": [
    "#%% Hyperparameters and Hyperparameter Tunning                     # Default decision trees in RF for sklearn is n=100.\n",
    "\n",
    "# Number of Trees (Forest Size)                                    # Trees can add valuable data, but also computation cost and overfitting.\n",
    "'rforest_classifier_n1 = RandomForestClassifier(n_estimators=1)'  \n",
    "'rforest_classifier_n1.fit(x_train, y_train)'                      # Poor performance w/ one deciosion tree.              \n",
    "                                                                   # roc_auc is 0.52. Which is near 0.50, the same as random 50/50 guessing\n",
    "\n",
    "'rforest_classifier_n10 = RandomForestClassifier(n_estimators=10)'  # This one is better. roc_auc = 0.58.\n",
    "'rforest_classifier_n10.fit(x_train, y_train)'                      # However, model is unstable and not as good as w/ default 100 estimators.\n",
    "\n",
    "rforest_classifier_n300 = RandomForestClassifier(n_estimators=300) # Better. This model's roc_auc is 0.627 which is only 0.007 better than our model with n=100\n",
    "rforest_classifier_n300.fit(x_train, y_train)                      # estimators. This demonstrates more decision trees insn't always better and way more computationally expensive.\n",
    "   \n",
    "    # Increasing forest's size may help our model performance. But up until a certain point.   \n",
    "    # All models were evlauated and compared w/ our eval_model() function.\n",
    "    \n",
    "    # in practice, we could run optimization algorithms to find the optimal combination of hyperparameters. This ventures into the science of Optimization...\n",
    "\n",
    "# Maximum Depth (Longest path in Decision Trees between Root Node and Leaf Node(s)).      # The defualt value of max_depth is None (i.e not limited).\n",
    "'rforest_classifier_d5 = RandomForestClassifier(max_depth=5)'                             # This can be the source of our overfitting.\n",
    "'rforest_classifier.fit(x_train, y_train)' # AUC of 0.61. Not too bad, but we're predicting almost everything as non defualt (loan). \n",
    "                                           # NOTE: Model performing similarly with (x_train, y_train) and (x_test, y_test) i.e we are reducing  overfitting.\n",
    "                                         \n",
    "rforest_classifier_d15 = RandomForestClassifier(max_depth=15)      # Best model we've seen thus far.              \n",
    "rforest_classifier.fit(x_train, y_train)                           # AUC = 0.65 best ability in separating classes."
   ]
  },
  {
   "cell_type": "markdown",
   "id": "2cc5b2e6",
   "metadata": {},
   "source": [
    "#%% Summary"
   ]
  },
  {
   "cell_type": "markdown",
   "id": "03194fbb",
   "metadata": {},
   "source": [
    "We experimented with Random Forest hyperparameters— specifically the number of trees (n_estimators) and tree depth (max_depth)— to improve model performance. Increasing the number of trees from 1 to 300 showed diminishing returns, with the AUC peaking around 0.627. Limiting tree depth to 15 improved performance and reduced overfitting, achieving the best AUC of 0.65. Overall, tuning hyperparameters carefully can boost performance, but more is not always better."
   ]
  }
 ],
 "metadata": {
  "kernelspec": {
   "display_name": "Python 3 (ipykernel)",
   "language": "python",
   "name": "python3"
  },
  "language_info": {
   "codemirror_mode": {
    "name": "ipython",
    "version": 3
   },
   "file_extension": ".py",
   "mimetype": "text/x-python",
   "name": "python",
   "nbconvert_exporter": "python",
   "pygments_lexer": "ipython3",
   "version": "3.9.12"
  }
 },
 "nbformat": 4,
 "nbformat_minor": 5
}
