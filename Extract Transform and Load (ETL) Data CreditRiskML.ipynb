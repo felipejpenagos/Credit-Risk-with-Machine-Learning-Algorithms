{
 "cells": [
  {
   "cell_type": "markdown",
   "id": "68ef9e04",
   "metadata": {},
   "source": [
    "### Loan Defualt Prediction with ML \n",
    "Part 1. Extract Transform and Load Data (ETL).\n"
   ]
  },
  {
   "cell_type": "markdown",
   "id": "34a1dfb4",
   "metadata": {},
   "source": [
    "#### Import Packages"
   ]
  },
  {
   "cell_type": "code",
   "execution_count": 59,
   "id": "9defcb10",
   "metadata": {},
   "outputs": [],
   "source": [
    "#!/usr/bin/env python3\n",
    "# -*- coding: utf-8 -*-\n",
    "\"\"\"\n",
    "Created on Fri Apr 26 12:41:15 2024\n",
    "\n",
    "@author: Felipe J\n",
    "\n",
    "Loan Defualt Prediction with ML pt.1, ETL.\n",
    "\n",
    "Completed with Corporate Finance Institute CFI.\n",
    "\n",
    "\"\"\"\n",
    "import numpy as np\n",
    "import pandas as pd\n",
    "import matplotlib as plt\n",
    "import seaborn as sns\n",
    "\n",
    "# Import Data Set\n",
    "loan_df = pd.read_csv('/Users/pjaram84/Desktop/Independent Pursuits/Machine Learning with CFI/Loan Default Prediction ML/data/vehicle_loans.csv',\n",
    "                      index_col='UNIQUEID')"
   ]
  },
  {
   "cell_type": "markdown",
   "id": "888a8498",
   "metadata": {},
   "source": [
    "#### Visualize and Understand Data\n",
    "This dataset consists of 40 columns (40 potential features) and 233k rows of data for each feature."
   ]
  },
  {
   "cell_type": "code",
   "execution_count": 60,
   "id": "c6b091df",
   "metadata": {},
   "outputs": [
    {
     "name": "stdout",
     "output_type": "stream",
     "text": [
      "<class 'pandas.core.frame.DataFrame'>\n",
      "Int64Index: 233154 entries, 420825 to 630213\n",
      "Data columns (total 40 columns):\n",
      " #   Column                               Non-Null Count   Dtype  \n",
      "---  ------                               --------------   -----  \n",
      " 0   DISBURSED_AMOUNT                     233154 non-null  int64  \n",
      " 1   ASSET_COST                           233154 non-null  int64  \n",
      " 2   LTV                                  233154 non-null  float64\n",
      " 3   BRANCH_ID                            233154 non-null  int64  \n",
      " 4   SUPPLIER_ID                          233154 non-null  int64  \n",
      " 5   MANUFACTURER_ID                      233154 non-null  int64  \n",
      " 6   CURRENT_PINCODE_ID                   233154 non-null  int64  \n",
      " 7   DATE_OF_BIRTH                        233154 non-null  object \n",
      " 8   EMPLOYMENT_TYPE                      225493 non-null  object \n",
      " 9   DISBURSAL_DATE                       233154 non-null  object \n",
      " 10  STATE_ID                             233154 non-null  int64  \n",
      " 11  EMPLOYEE_CODE_ID                     233154 non-null  int64  \n",
      " 12  MOBILENO_AVL_FLAG                    233154 non-null  int64  \n",
      " 13  AADHAR_FLAG                          233154 non-null  int64  \n",
      " 14  PAN_FLAG                             233154 non-null  int64  \n",
      " 15  VOTERID_FLAG                         233154 non-null  int64  \n",
      " 16  DRIVING_FLAG                         233154 non-null  int64  \n",
      " 17  PASSPORT_FLAG                        233154 non-null  int64  \n",
      " 18  PERFORM_CNS_SCORE                    233154 non-null  int64  \n",
      " 19  PERFORM_CNS_SCORE_DESCRIPTION        233154 non-null  object \n",
      " 20  PRI_NO_OF_ACCTS                      233154 non-null  int64  \n",
      " 21  PRI_ACTIVE_ACCTS                     233154 non-null  int64  \n",
      " 22  PRI_OVERDUE_ACCTS                    233154 non-null  int64  \n",
      " 23  PRI_CURRENT_BALANCE                  233154 non-null  int64  \n",
      " 24  PRI_SANCTIONED_AMOUNT                233154 non-null  int64  \n",
      " 25  PRI_DISBURSED_AMOUNT                 233154 non-null  int64  \n",
      " 26  SEC_NO_OF_ACCTS                      233154 non-null  int64  \n",
      " 27  SEC_ACTIVE_ACCTS                     233154 non-null  int64  \n",
      " 28  SEC_OVERDUE_ACCTS                    233154 non-null  int64  \n",
      " 29  SEC_CURRENT_BALANCE                  233154 non-null  int64  \n",
      " 30  SEC_SANCTIONED_AMOUNT                233154 non-null  int64  \n",
      " 31  SEC_DISBURSED_AMOUNT                 233154 non-null  int64  \n",
      " 32  PRIMARY_INSTAL_AMT                   233154 non-null  int64  \n",
      " 33  SEC_INSTAL_AMT                       233154 non-null  int64  \n",
      " 34  NEW_ACCTS_IN_LAST_SIX_MONTHS         233154 non-null  int64  \n",
      " 35  DELINQUENT_ACCTS_IN_LAST_SIX_MONTHS  233154 non-null  int64  \n",
      " 36  AVERAGE_ACCT_AGE                     233154 non-null  object \n",
      " 37  CREDIT_HISTORY_LENGTH                233154 non-null  object \n",
      " 38  NO_OF_INQUIRIES                      233154 non-null  int64  \n",
      " 39  LOAN_DEFAULT                         233154 non-null  int64  \n",
      "dtypes: float64(1), int64(33), object(6)\n",
      "memory usage: 72.9+ MB\n",
      "Number of rows: 233154\n",
      "Number of columns 40\n"
     ]
    },
    {
     "data": {
      "text/html": [
       "<div>\n",
       "<style scoped>\n",
       "    .dataframe tbody tr th:only-of-type {\n",
       "        vertical-align: middle;\n",
       "    }\n",
       "\n",
       "    .dataframe tbody tr th {\n",
       "        vertical-align: top;\n",
       "    }\n",
       "\n",
       "    .dataframe thead th {\n",
       "        text-align: right;\n",
       "    }\n",
       "</style>\n",
       "<table border=\"1\" class=\"dataframe\">\n",
       "  <thead>\n",
       "    <tr style=\"text-align: right;\">\n",
       "      <th></th>\n",
       "      <th>DISBURSED_AMOUNT</th>\n",
       "      <th>ASSET_COST</th>\n",
       "      <th>LTV</th>\n",
       "      <th>BRANCH_ID</th>\n",
       "      <th>SUPPLIER_ID</th>\n",
       "      <th>MANUFACTURER_ID</th>\n",
       "      <th>CURRENT_PINCODE_ID</th>\n",
       "      <th>DATE_OF_BIRTH</th>\n",
       "      <th>EMPLOYMENT_TYPE</th>\n",
       "      <th>DISBURSAL_DATE</th>\n",
       "      <th>...</th>\n",
       "      <th>SEC_SANCTIONED_AMOUNT</th>\n",
       "      <th>SEC_DISBURSED_AMOUNT</th>\n",
       "      <th>PRIMARY_INSTAL_AMT</th>\n",
       "      <th>SEC_INSTAL_AMT</th>\n",
       "      <th>NEW_ACCTS_IN_LAST_SIX_MONTHS</th>\n",
       "      <th>DELINQUENT_ACCTS_IN_LAST_SIX_MONTHS</th>\n",
       "      <th>AVERAGE_ACCT_AGE</th>\n",
       "      <th>CREDIT_HISTORY_LENGTH</th>\n",
       "      <th>NO_OF_INQUIRIES</th>\n",
       "      <th>LOAN_DEFAULT</th>\n",
       "    </tr>\n",
       "    <tr>\n",
       "      <th>UNIQUEID</th>\n",
       "      <th></th>\n",
       "      <th></th>\n",
       "      <th></th>\n",
       "      <th></th>\n",
       "      <th></th>\n",
       "      <th></th>\n",
       "      <th></th>\n",
       "      <th></th>\n",
       "      <th></th>\n",
       "      <th></th>\n",
       "      <th></th>\n",
       "      <th></th>\n",
       "      <th></th>\n",
       "      <th></th>\n",
       "      <th></th>\n",
       "      <th></th>\n",
       "      <th></th>\n",
       "      <th></th>\n",
       "      <th></th>\n",
       "      <th></th>\n",
       "      <th></th>\n",
       "    </tr>\n",
       "  </thead>\n",
       "  <tbody>\n",
       "    <tr>\n",
       "      <th>420825</th>\n",
       "      <td>50578</td>\n",
       "      <td>58400</td>\n",
       "      <td>89.55</td>\n",
       "      <td>67</td>\n",
       "      <td>22807</td>\n",
       "      <td>45</td>\n",
       "      <td>1441</td>\n",
       "      <td>01-01-1984</td>\n",
       "      <td>Salaried</td>\n",
       "      <td>03-08-2018</td>\n",
       "      <td>...</td>\n",
       "      <td>0</td>\n",
       "      <td>0</td>\n",
       "      <td>0</td>\n",
       "      <td>0</td>\n",
       "      <td>0</td>\n",
       "      <td>0</td>\n",
       "      <td>0yrs 0mon</td>\n",
       "      <td>0yrs 0mon</td>\n",
       "      <td>0</td>\n",
       "      <td>0</td>\n",
       "    </tr>\n",
       "    <tr>\n",
       "      <th>537409</th>\n",
       "      <td>47145</td>\n",
       "      <td>65550</td>\n",
       "      <td>73.23</td>\n",
       "      <td>67</td>\n",
       "      <td>22807</td>\n",
       "      <td>45</td>\n",
       "      <td>1502</td>\n",
       "      <td>31-07-1985</td>\n",
       "      <td>Self employed</td>\n",
       "      <td>26-09-2018</td>\n",
       "      <td>...</td>\n",
       "      <td>0</td>\n",
       "      <td>0</td>\n",
       "      <td>1991</td>\n",
       "      <td>0</td>\n",
       "      <td>0</td>\n",
       "      <td>1</td>\n",
       "      <td>1yrs 11mon</td>\n",
       "      <td>1yrs 11mon</td>\n",
       "      <td>0</td>\n",
       "      <td>1</td>\n",
       "    </tr>\n",
       "    <tr>\n",
       "      <th>417566</th>\n",
       "      <td>53278</td>\n",
       "      <td>61360</td>\n",
       "      <td>89.63</td>\n",
       "      <td>67</td>\n",
       "      <td>22807</td>\n",
       "      <td>45</td>\n",
       "      <td>1497</td>\n",
       "      <td>24-08-1985</td>\n",
       "      <td>Self employed</td>\n",
       "      <td>01-08-2018</td>\n",
       "      <td>...</td>\n",
       "      <td>0</td>\n",
       "      <td>0</td>\n",
       "      <td>0</td>\n",
       "      <td>0</td>\n",
       "      <td>0</td>\n",
       "      <td>0</td>\n",
       "      <td>0yrs 0mon</td>\n",
       "      <td>0yrs 0mon</td>\n",
       "      <td>0</td>\n",
       "      <td>0</td>\n",
       "    </tr>\n",
       "    <tr>\n",
       "      <th>624493</th>\n",
       "      <td>57513</td>\n",
       "      <td>66113</td>\n",
       "      <td>88.48</td>\n",
       "      <td>67</td>\n",
       "      <td>22807</td>\n",
       "      <td>45</td>\n",
       "      <td>1501</td>\n",
       "      <td>30-12-1993</td>\n",
       "      <td>Self employed</td>\n",
       "      <td>26-10-2018</td>\n",
       "      <td>...</td>\n",
       "      <td>0</td>\n",
       "      <td>0</td>\n",
       "      <td>31</td>\n",
       "      <td>0</td>\n",
       "      <td>0</td>\n",
       "      <td>0</td>\n",
       "      <td>0yrs 8mon</td>\n",
       "      <td>1yrs 3mon</td>\n",
       "      <td>1</td>\n",
       "      <td>1</td>\n",
       "    </tr>\n",
       "    <tr>\n",
       "      <th>539055</th>\n",
       "      <td>52378</td>\n",
       "      <td>60300</td>\n",
       "      <td>88.39</td>\n",
       "      <td>67</td>\n",
       "      <td>22807</td>\n",
       "      <td>45</td>\n",
       "      <td>1495</td>\n",
       "      <td>09-12-1977</td>\n",
       "      <td>Self employed</td>\n",
       "      <td>26-09-2018</td>\n",
       "      <td>...</td>\n",
       "      <td>0</td>\n",
       "      <td>0</td>\n",
       "      <td>0</td>\n",
       "      <td>0</td>\n",
       "      <td>0</td>\n",
       "      <td>0</td>\n",
       "      <td>0yrs 0mon</td>\n",
       "      <td>0yrs 0mon</td>\n",
       "      <td>1</td>\n",
       "      <td>1</td>\n",
       "    </tr>\n",
       "  </tbody>\n",
       "</table>\n",
       "<p>5 rows × 40 columns</p>\n",
       "</div>"
      ],
      "text/plain": [
       "          DISBURSED_AMOUNT  ASSET_COST    LTV  BRANCH_ID  SUPPLIER_ID  \\\n",
       "UNIQUEID                                                                \n",
       "420825               50578       58400  89.55         67        22807   \n",
       "537409               47145       65550  73.23         67        22807   \n",
       "417566               53278       61360  89.63         67        22807   \n",
       "624493               57513       66113  88.48         67        22807   \n",
       "539055               52378       60300  88.39         67        22807   \n",
       "\n",
       "          MANUFACTURER_ID  CURRENT_PINCODE_ID DATE_OF_BIRTH EMPLOYMENT_TYPE  \\\n",
       "UNIQUEID                                                                      \n",
       "420825                 45                1441    01-01-1984        Salaried   \n",
       "537409                 45                1502    31-07-1985   Self employed   \n",
       "417566                 45                1497    24-08-1985   Self employed   \n",
       "624493                 45                1501    30-12-1993   Self employed   \n",
       "539055                 45                1495    09-12-1977   Self employed   \n",
       "\n",
       "         DISBURSAL_DATE  ...  SEC_SANCTIONED_AMOUNT  SEC_DISBURSED_AMOUNT  \\\n",
       "UNIQUEID                 ...                                                \n",
       "420825       03-08-2018  ...                      0                     0   \n",
       "537409       26-09-2018  ...                      0                     0   \n",
       "417566       01-08-2018  ...                      0                     0   \n",
       "624493       26-10-2018  ...                      0                     0   \n",
       "539055       26-09-2018  ...                      0                     0   \n",
       "\n",
       "          PRIMARY_INSTAL_AMT  SEC_INSTAL_AMT  NEW_ACCTS_IN_LAST_SIX_MONTHS  \\\n",
       "UNIQUEID                                                                     \n",
       "420825                     0               0                             0   \n",
       "537409                  1991               0                             0   \n",
       "417566                     0               0                             0   \n",
       "624493                    31               0                             0   \n",
       "539055                     0               0                             0   \n",
       "\n",
       "          DELINQUENT_ACCTS_IN_LAST_SIX_MONTHS  AVERAGE_ACCT_AGE  \\\n",
       "UNIQUEID                                                          \n",
       "420825                                      0         0yrs 0mon   \n",
       "537409                                      1        1yrs 11mon   \n",
       "417566                                      0         0yrs 0mon   \n",
       "624493                                      0         0yrs 8mon   \n",
       "539055                                      0         0yrs 0mon   \n",
       "\n",
       "          CREDIT_HISTORY_LENGTH  NO_OF_INQUIRIES LOAN_DEFAULT  \n",
       "UNIQUEID                                                       \n",
       "420825                0yrs 0mon                0            0  \n",
       "537409               1yrs 11mon                0            1  \n",
       "417566                0yrs 0mon                0            0  \n",
       "624493                1yrs 3mon                1            1  \n",
       "539055                0yrs 0mon                1            1  \n",
       "\n",
       "[5 rows x 40 columns]"
      ]
     },
     "execution_count": 60,
     "metadata": {},
     "output_type": "execute_result"
    }
   ],
   "source": [
    "### ETL – explore the data.\n",
    "loan_df.info()     # Look at column types (e.g. 'Employment_Type' has na values, others do not).\n",
    "                   # It also shows how many and which columns are categorical ('object')– not memory efficient.\n",
    "loan_df.shape      # Rows and columns\n",
    "loan_df.nunique()  # number of unique vals per column\n",
    "loan_df.describe() # Descriptive stats for each column\n",
    "print(\"Number of rows:\", loan_df.shape[0])\n",
    "print(\"Number of columns\", loan_df.shape[1])\n",
    "\n",
    "loan_df.head()"
   ]
  },
  {
   "cell_type": "code",
   "execution_count": 61,
   "id": "be9d78b6",
   "metadata": {},
   "outputs": [
    {
     "name": "stdout",
     "output_type": "stream",
     "text": [
      "Maximum Disbursal Date: 2018-10-31 00:00:00\n",
      "Maximum Disbursal Date: 2018-08-01 00:00:00\n",
      "Timespan of Data Set 91 days 00:00:00\n"
     ]
    }
   ],
   "source": [
    "#%% Columns that need cleaning\n",
    "\n",
    "# Column 'DISBURSAL_DATE' contains dates in which loans were granted (timeframe of data)\n",
    "\n",
    "loan_df['DISBURSAL_DATE'] = pd.to_datetime(loan_df['DISBURSAL_DATE'], format='%d-%m-%Y') # Convert disbursal date. \n",
    "print(\"Maximum Disbursal Date:\", loan_df['DISBURSAL_DATE'].max())     # Get minimum and \n",
    "print(\"Maximum Disbursal Date:\", loan_df['DISBURSAL_DATE'].min())     # maximum date.\n",
    "\n",
    "# We can perfrom mathematical operations on pd.to_datetime data.\n",
    "print(\"Timespan of Data Set\", loan_df['DISBURSAL_DATE'].max() - loan_df['DISBURSAL_DATE'].min())\n",
    "\n"
   ]
  },
  {
   "cell_type": "markdown",
   "id": "8ffd3956",
   "metadata": {},
   "source": [
    "#### Visualize Target Variable"
   ]
  },
  {
   "cell_type": "code",
   "execution_count": 62,
   "id": "166665b5",
   "metadata": {},
   "outputs": [
    {
     "data": {
      "text/plain": [
       "<AxesSubplot:xlabel='LOAN_DEFAULT', ylabel='count'>"
      ]
     },
     "execution_count": 62,
     "metadata": {},
     "output_type": "execute_result"
    },
    {
     "data": {
      "image/png": "[encoded data removed]",
      "text/plain": [
       "<Figure size 432x288 with 1 Axes>"
      ]
     },
     "metadata": {
      "needs_background": "light"
     },
     "output_type": "display_data"
    }
   ],
   "source": [
    "# Target Variable 'LOAN_DEFAULT'\n",
    "loan_df['LOAN_DEFAULT'].value_counts() # 0=payed loan on time, 1=defualted on loan.\n",
    "\n",
    "# Visualize Target Variable. \n",
    "sns.countplot(x=loan_df['LOAN_DEFAULT'], data=loan_df)"
   ]
  },
  {
   "cell_type": "code",
   "execution_count": 63,
   "id": "62ccf0e6",
   "metadata": {},
   "outputs": [
    {
     "name": "stdout",
     "output_type": "stream",
     "text": [
      "Number of non-defaults in data: 182543\n",
      "Number of defaults in data: 50611\n",
      "non-default rate: 78.29%, default rate: 21.71%\n"
     ]
    }
   ],
   "source": [
    "loan_df['LOAN_DEFAULT'].value_counts()\n",
    "print('Number of non-defaults in data:', loan_df['LOAN_DEFAULT'].value_counts()[0])\n",
    "print('Number of defaults in data:', loan_df['LOAN_DEFAULT'].value_counts()[1])\n",
    "percentages = loan_df['LOAN_DEFAULT'].value_counts(normalize=True)      # Express it as a precentage.\n",
    "print(f\"non-default rate: {percentages[0]*100:.2f}%, default rate: {percentages[1]*100:.2f}%\")\n",
    "                                                                        # Rate of default is 21%."
   ]
  },
  {
   "cell_type": "markdown",
   "id": "a8e207ad",
   "metadata": {},
   "source": [
    "#### Deal with Missing Values"
   ]
  },
  {
   "cell_type": "code",
   "execution_count": 64,
   "id": "76635860",
   "metadata": {},
   "outputs": [
    {
     "data": {
      "text/plain": [
       "<AxesSubplot:xlabel='EMPLOYMENT_TYPE', ylabel='count'>"
      ]
     },
     "execution_count": 64,
     "metadata": {},
     "output_type": "execute_result"
    },
    {
     "data": {
      "image/png": "[encoded data removed]",
      "text/plain": [
       "<Figure size 432x288 with 1 Axes>"
      ]
     },
     "metadata": {
      "needs_background": "light"
     },
     "output_type": "display_data"
    }
   ],
   "source": [
    "# Missing values – find and replace.\n",
    "loan_df.isnull().any() # Find with True or False if any null values per column\n",
    "loan_df.isnull().sum() # Get the amount of null values per columns\n",
    "\n",
    "# Fill null values.\n",
    "loan_df = loan_df.fillna(value={'EMPLOYMENT_TYPE':'Missing'}) # .fillna values allows us to replace missing vals.\n",
    "# If we do a countplot of 'Employment_Type' now, we'll note we added a third category called 'Missing'\n",
    "sns.countplot(x='EMPLOYMENT_TYPE', data=loan_df)"
   ]
  },
  {
   "cell_type": "code",
   "execution_count": 65,
   "id": "48a6aef2",
   "metadata": {},
   "outputs": [],
   "source": [
    "# Exploring Date Columns\n",
    "\n",
    "# We have 'Disbursal_Date' and 'Date_of_Birth', and we know a potentially useful variable would be Age. So,\n",
    "# with this information, we can create a new column 'Age'.\n",
    "loan_df['DATE_OF_BIRTH'] = pd.to_datetime(loan_df['DATE_OF_BIRTH'], format='%d-%m-%Y')\n",
    "loan_df['AGE'] = loan_df['DISBURSAL_DATE'] - loan_df['DATE_OF_BIRTH'] # Caluclate their age at time of disbursal.\n",
    "loan_df['AGE'] = loan_df['AGE'] // np.timedelta64(1, 'Y')             # np.timedelta64(1, 'Y') will convert days --> years.\n",
    "                                                                      # Now we have a new column in our df with the Age of borrowers.\n",
    "\n",
    "# We found earlier that all of our data was from 2018, but the loans were given in different months. We can rapidly\n",
    "# create a new column for month in which loan was granted to see if it has any relationship to (Y).\n",
    "loan_df['DISBURSAL_MONTH'] = loan_df['DISBURSAL_DATE'].dt.month\n",
    "loan_df['DISBURSAL_MONTH'].value_counts()\n",
    "loan_df = loan_df.drop(columns=['DISBURSAL_DATE', 'DATE_OF_BIRTH'], axis=1) # Since we added cols, 'Disbursal_Month' \n",
    "                                                                            # and 'AGE\", we can drop the other columns \n"
   ]
  },
  {
   "cell_type": "code",
   "execution_count": 66,
   "id": "85552f22",
   "metadata": {},
   "outputs": [
    {
     "name": "stdout",
     "output_type": "stream",
     "text": [
      "UNIQUEID\n",
      "517641     [0, 0]\n",
      "437830     [0, 5]\n",
      "453832    [0, 10]\n",
      "465571     [0, 0]\n",
      "514935     [1, 0]\n",
      "537279     [0, 2]\n",
      "630582     [0, 7]\n",
      "566178     [0, 0]\n",
      "547461     [0, 3]\n",
      "456619     [0, 3]\n",
      "Name: AVERAGE_ACCT_AGE_MONTHS, dtype: object\n"
     ]
    },
    {
     "data": {
      "text/plain": [
       "No Bureau History Available                                116950\n",
       "C-Very Low Risk                                             16045\n",
       "A-Very Low Risk                                             14124\n",
       "D-Very Low Risk                                             11358\n",
       "B-Very Low Risk                                              9201\n",
       "M-Very High Risk                                             8776\n",
       "F-Low Risk                                                   8485\n",
       "K-High Risk                                                  8277\n",
       "H-Medium Risk                                                6855\n",
       "E-Low Risk                                                   5821\n",
       "I-Medium Risk                                                5557\n",
       "G-Low Risk                                                   3988\n",
       "Not Scored: Sufficient History Not Available                 3765\n",
       "J-High Risk                                                  3748\n",
       "Not Scored: Not Enough Info available on the customer        3672\n",
       "Not Scored: No Activity seen on the customer (Inactive)      2885\n",
       "Not Scored: No Updates available in last 36 months           1534\n",
       "L-Very High Risk                                             1134\n",
       "Not Scored: Only a Guarantor                                  976\n",
       "Not Scored: More than 50 active Accounts found                  3\n",
       "Name: PERFORM_CNS_SCORE_DESCRIPTION, dtype: int64"
      ]
     },
     "execution_count": 66,
     "metadata": {},
     "output_type": "execute_result"
    }
   ],
   "source": [
    "# Some columns are supposed to be numerical but were formatted as ' #yrs#mon ' which is a string. Fix.\n",
    "loan_df[['CREDIT_HISTORY_LENGTH','AVERAGE_ACCT_AGE']].sample(n=10) # Validate the format is wrong.\n",
    "\n",
    "# Extract relevant values from the original string data\n",
    "loan_df['AVERAGE_ACCT_AGE_MONTHS'] = loan_df['AVERAGE_ACCT_AGE'].str.findall('\\d+') # '\\d+' is an expression which finds integers\n",
    "print(loan_df['AVERAGE_ACCT_AGE_MONTHS'].sample(n=10))                              # in a string, '.findall' finds all\n",
    "                                                                                    # instances of a string in a column.\n",
    "# Create funtion to caluclate the total months based on list of input strings.\n",
    "def calc_months(str_list):\n",
    "    years = int(str_list[0])\n",
    "    months = int(str_list[1])\n",
    "    num_months = (years*12) + months\n",
    "    return num_months\n",
    "\n",
    "# Use function calc_months to structure our data.                    \n",
    "loan_df['AVERAGE_ACCT_AGE_MONTHS'] = loan_df['AVERAGE_ACCT_AGE_MONTHS'].map(calc_months) # Now total months has been to a \n",
    "                                                                                         # new column 'Average_Acct_Age_Months'\n",
    "# Column 'Credit_History_Length'\n",
    "def convert_str_to_months(col_name): \n",
    "    new_col = col_name + '_MONTHS'   # This function makes our other function reproducible with any new column that we input.\n",
    "    loan_df[new_col] = loan_df[col_name].str.findall('\\d+')\n",
    "    loan_df[new_col] = loan_df[new_col].map(calc_months)\n",
    "convert_str_to_months('CREDIT_HISTORY_LENGTH') # Converted.\n",
    "\n",
    "loan_df = loan_df.drop(columns=(['CREDIT_HISTORY_LENGTH','AVERAGE_ACCT_AGE']), axis=1) # Drop og columns which we just changed.\n",
    "\n",
    "# One more categorical column to investigate: 'PERFRORM_CNS_SCORE_DESCRIPTION'\n",
    "loan_df['PERFORM_CNS_SCORE_DESCRIPTION'].value_counts() # Run to investigate it. \n",
    "                                                        # Column is filled with different categories.  \n",
    "\n",
    "# We'll do this in Exploratory Data Analysis EDA section. "
   ]
  },
  {
   "cell_type": "markdown",
   "id": "43f030cc",
   "metadata": {},
   "source": [
    "#### Summary"
   ]
  },
  {
   "cell_type": "code",
   "execution_count": 69,
   "id": "a7cb11ba",
   "metadata": {},
   "outputs": [
    {
     "data": {
      "text/plain": [
       "'Summary:\\n* Identified Target Variable\\n* Dealt with missing data, data formats, and converted several columns into potentially useful features. \\n* Transformed our data frame by modifiying, dropping, adding columns.\\n'"
      ]
     },
     "execution_count": 69,
     "metadata": {},
     "output_type": "execute_result"
    }
   ],
   "source": [
    "# Save cleaned data into csv using '.to_csv'\n",
    "loan_df.to_csv('/Users/pjaram84/Desktop/Independent Pursuits/Machine Learning with CFI/Loan Default Prediction ML/data/vehicle_loans_clean.csv',)\n",
    "\n",
    "\"\"\"Summary:\n",
    "* Identified Target Variable\n",
    "* Dealt with missing data, data formats, and converted several columns into potentially useful features. \n",
    "* Transformed our data frame by modifiying, dropping, adding columns.\n",
    "\"\"\""
   ]
  }
 ],
 "metadata": {
  "kernelspec": {
   "display_name": "Python 3 (ipykernel)",
   "language": "python",
   "name": "python3"
  },
  "language_info": {
   "codemirror_mode": {
    "name": "ipython",
    "version": 3
   },
   "file_extension": ".py",
   "mimetype": "text/x-python",
   "name": "python",
   "nbconvert_exporter": "python",
   "pygments_lexer": "ipython3",
   "version": "3.9.12"
  }
 },
 "nbformat": 4,
 "nbformat_minor": 5
}
